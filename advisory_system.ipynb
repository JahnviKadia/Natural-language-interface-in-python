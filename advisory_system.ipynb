{
 "cells": [
  {
   "cell_type": "code",
   "execution_count": 8,
   "metadata": {},
   "outputs": [],
   "source": [
    "import nltk\n",
    "from nltk.tokenize import word_tokenize\n",
    "from nltk.stem import PorterStemmer\n",
    "from nltk.corpus import stopwords"
   ]
  },
  {
   "cell_type": "code",
   "execution_count": 2,
   "metadata": {},
   "outputs": [],
   "source": [
    "from pyswip import Prolog"
   ]
  },
  {
   "cell_type": "code",
   "execution_count": 3,
   "metadata": {},
   "outputs": [],
   "source": [
    "swipl = Prolog()\n",
    "swipl.consult(\"a5.pl\")"
   ]
  },
  {
   "cell_type": "code",
   "execution_count": 4,
   "metadata": {},
   "outputs": [
    {
     "name": "stdout",
     "output_type": "stream",
     "text": [
      "In which career field you are interested in ? computer vision\n",
      "\n",
      "\n",
      "...tokens are ... ['computer', 'vision']\n",
      "What prerequites you aquire ? linear algebra\n",
      "\n",
      "\n",
      "...tokens are ... ['linear', 'algebra']\n"
     ]
    }
   ],
   "source": [
    "# career\n",
    "career_list = []\n",
    "input_1 = input(\"In which career field you are interested in ? \")\n",
    "token_1 = word_tokenize(input_1)\n",
    "print(\"\\n\\n...tokens are ...\", token_1)\n",
    "\n",
    "# prerequisite\n",
    "pre_list = []\n",
    "input_2 = input(\"What prerequites you aquire ? \")\n",
    "token_2 = word_tokenize(input_2)\n",
    "print(\"\\n\\n...tokens are ...\", token_2)\n",
    "\n"
   ]
  },
  {
   "cell_type": "code",
   "execution_count": 5,
   "metadata": {},
   "outputs": [
    {
     "name": "stdout",
     "output_type": "stream",
     "text": [
      "\n",
      "..word is.. computer\n",
      "...stem is ... comput\n",
      "\n",
      "..word is.. vision\n",
      "...stem is ... vision\n",
      "\n",
      "..word is.. linear\n",
      "...stem is ... linear\n",
      "\n",
      "..word is.. algebra\n",
      "...stem is ... algebra\n"
     ]
    }
   ],
   "source": [
    "#list 1\n",
    "ps = PorterStemmer()\n",
    "for w_1 in token_1:\n",
    "    print(\"\\n..word is..\",w_1)\n",
    "    stem_1 = ps.stem(w_1)\n",
    "    print(\"...stem is ...\", stem_1)\n",
    "    career_list.append(stem_1)\n",
    "\n",
    "# list 2\n",
    "#ps = PorterStemmer()\n",
    "for w_2 in token_2:\n",
    "    print(\"\\n..word is..\",w_2)\n",
    "    stem_2 = ps.stem(w_2)\n",
    "    print(\"...stem is ...\", stem_2)\n",
    "    pre_list.append(stem_2)"
   ]
  },
  {
   "cell_type": "code",
   "execution_count": 6,
   "metadata": {},
   "outputs": [],
   "source": [
    "f = open(\"elective_facts.txt\", 'w')\n",
    "\n",
    "if (\"ml\" in career_list) or (\"machin\" in career_list) or (\"ML\" in career_list):\n",
    "    if (\"probabl\" in pre_list) or (\"statist\" in pre_list )or (\"prob\" in pre_list) or (\"stat\" in pre_list) :\n",
    "        f.write(\"\\n career_in(ml,_,_,_,_,_).\\n\")\n",
    "        f.write(\"\\n pre_in(_,prob_and_stats,_).\\n\")\n",
    "    elif (\"intro\" in pre_list) or (\"program\" in pre_list):\n",
    "        f.write(\"\\n career_in(ml,_,_,_,_,_).\\n\")\n",
    "        f.write(\"\\n pre_in(intro_to_programming,_,_).\\n\")\n",
    "    elif (\"math\" in pre_list): \n",
    "        f.write(\"\\n career_in(ml,_,_,_,_,_).\\n\")\n",
    "        f.write(\"\\n pre_in(_,_,mathsI_and_III).\\n\")\n",
    "        \n",
    "elif (\"dl\" in career_list) or (\"DL\" in career_list) or (\"deep\" in career_list):\n",
    "    if (\"ml\" in pre_list) or (\"ML\" in pre_list) or (\"machin\" in pre_list):\n",
    "        f.write(\"\\n career_in(dl,_,_,_,_,_).\\n\")\n",
    "        f.write(\"\\n pre_in(machine_learning,_,_).\\n\")\n",
    "    elif (\"math\" in pre_list):\n",
    "        f.write(\"\\n career_in(dl,_,_,_,_,_).\\n\")\n",
    "        f.write(\"\\n pre_in(_,maths_III,_).\\n\")\n",
    "    elif (\"python\" in pre_list) or (\"program\" in pre_list):\n",
    "        f.write(\"\\n career_in(dl,_,_,_,_,_).\\n\")\n",
    "        f.write(\"\\n pre_in(_,_,python_programming).\\n\")\n",
    "        \n",
    "elif (\"vision\" in career_list) or (\"comput\" in career_list) or (\"cv\" in career_list) or (\"CV\" in career_list):\n",
    "    if(\"linear\" in pre_list) or (\"algebra\" in pre_list) or (\"LA\" in pre_list) or (\"la\" in pre_list):\n",
    "        f.write(\"\\n career_in(cv,_,_,_,_,_).\\n\")\n",
    "        f.write(\"\\n pre_in(linear_algebra,_,_).\\n\")\n",
    "    elif (\"imag\" in pre_list) or (\"analysi\" in pre_list) or (\"IA\" in pre_list) or (\"ia\" in pre_list):\n",
    "        f.write(\"\\n career_in(cv,_,_,_,_,_).\\n\")\n",
    "        f.write(\"\\n pre_in(_,image_analysis,_).\\n\")\n",
    "    elif (\"signal\" in pre_list) or (\"process\" in pre_list) or (\"dsp\" in pre_list):\n",
    "        f.write(\"\\n career_in(cv,_,_,_,_,_).\\n\")\n",
    "        f.write(\"\\n pre_in(_,_,digital_signal_processing).\\n\")\n",
    "    \n",
    "elif(\"artifici\" in career_list) or (\"intellig\" in career_list) or (\"AI\" in career_list) or (\"ai\" in career_list):\n",
    "    if(\"data\" in pre_list) or (\"structur\" in pre_list) or (\"DS\" in pre_list) or (\"ds\" in pre_list):\n",
    "        f.write(\"\\n career_in(ai,_,_,_,_,_).\\n\")\n",
    "        f.write(\"\\n pre_in(data_structures,_,_).\\n\")\n",
    "    elif (\"algorithm\" in pre_list) or (\"algo\" in pre_list):\n",
    "        f.write(\"\\n career_in(ai,_,_,_,_,_).\\n\")\n",
    "        f.write(\"\\n pre_in(_,algorithms,_).\\n\")\n",
    "    elif(\"math\" in pre_list):\n",
    "        f.write(\"\\n career_in(ai,_,_,_,_,_).\\n\")\n",
    "        f.write(\"\\n pre_in(_,_,math).\\n\")\n",
    "        \n",
    "elif (\"algorithm\" in career_list) or (\"algo\" in career_list):\n",
    "    if(\"data\" in pre_list) or (\"structur\" in pre_list) or (\"DS\" in pre_list) or (\"ds\" in pre_list):\n",
    "        f.write(\"\\n career_in(algorithm,_,_,_,_,_).\\n\")\n",
    "        f.write(\"\\n pre_in(data_structures,_,_).\\n\")\n",
    "    elif (\"algorithm\" in pre_list) or (\"algo\" in pre_list):\n",
    "        f.write(\"\\n career_in(algorithm,_,_,_,_,_).\\n\")\n",
    "        f.write(\"\\n pre_in(_,algorithms,_).\\n\")\n",
    "    elif (\"intro\" in pre_list) or (\"program\" in pre_list):\n",
    "        f.write(\"\\n career_in(algorithm,_,_,_,_,_).\\n\")\n",
    "        f.write(\"\\n pre_in(_,_,intro_to_programming).\\n\")\n",
    "        \n",
    "elif(\"inform\" in career_list) or (\"retriev\" in career_list) or(\"IR\" in career_list) or ('ir' in career_list):\n",
    "        if(\"data\" in pre_list) or (\"structur\" in pre_list) or (\"algorithm\" in pre_list) or (\"algo\" in pre_list) or (\"DS\" in pre_list) or (\"ds\" in pre_list):\n",
    "            f.write(\"\\n career_in(ir,_,_,_,_,_).\\n\")\n",
    "            f.write(\"\\n pre_in(data_structures_and_algorithms,_,_).\\n\")\n",
    "        elif (\"intro\" in pre_list) or (\"program\" in pre_list):\n",
    "            f.write(\"\\n career_in(ir,_,_,_,_,_).\\n\")\n",
    "            f.write(\"\\n pre_in(_,intro_to_programming,_).\\n\")\n",
    "        elif(\"fundament\" in pre_list) or (\"databas\" in pre_list) or (\"system\" in pre_list) or (\"DS\" in pre_list) or (\"ds\" in pre_list):\n",
    "            f.write(\"\\n career_in(ir,_,_,_,_,_).\\n\")\n",
    "            f.write(\"\\n pre_in(_,_,fundamentals_of_database_systems).\\n\")\n",
    "            \n",
    "elif (\"oper\" in career_list) or (\"system\" in career_list) or (\"OS\" in career_list) or (\"os\" in career_list):\n",
    "    if(\"data\" in pre_list) or (\"structur\" in pre_list) or (\"DS\" in pre_list) or (\"ds\" in pre_list):\n",
    "        f.write(\"\\n career_in(os,_,_,_,_,_).\\n\")\n",
    "        f.write(\"\\n pre_in(data_structures,_,_).\\n\")\n",
    "    elif (\"algorithm\" in pre_list) or (\"algo\" in pre_list):\n",
    "        f.write(\"\\n career_in(os,_,_,_,_,_).\\n\")\n",
    "        f.write(\"\\n pre_in(_,algorithms,_).\\n\")\n",
    "    elif (\"intro\" in pre_list) or (\"program\" in pre_list):\n",
    "        f.write(\"\\n career_in(os,_,_,_,_,_).\\n\")\n",
    "        f.write(\"\\n pre_in(_,_,intro_to_programming).\\n\")\n",
    "        \n",
    "\n",
    "        \n",
    "elif(\"mine\" in career_list) or (\"data\" in career_list) or (\"DM\" in career_list) or (\"dm\" in career_list):\n",
    "    if (\"intro\" in pre_list) or (\"program\" in pre_list):\n",
    "        f.write(\"\\n career_in(dm,_,_,_,_,_).\\n\")\n",
    "        f.write(\"\\n pre_in(intro_to_programming,_,_).\\n\")\n",
    "    elif (\"probabl\" in pre_list) or (\"statist\" in pre_list)or (\"prob\" in pre_list) or (\"stat\" in pre_list) :\n",
    "        f.write(\"\\n career_in(dm,_,_,_,_,_).\\n\")\n",
    "        f.write(\"\\n pre_in(_,prob_and_stats,_).\\n\")\n",
    "    elif(\"fundament\" in pre_list) or (\"databas\" in pre_list) or (\"system\" in pre_list) or (\"DS\" in pre_list) or (\"ds\" in pre_list):\n",
    "            f.write(\"\\n career_in(dm,_,_,_,_,_).\\n\")\n",
    "            f.write(\"\\n pre_in(_,_,fundamentals_of_database_systems).\\n\")"
   ]
  },
  {
   "cell_type": "code",
   "execution_count": 7,
   "metadata": {},
   "outputs": [],
   "source": [
    "f.close();"
   ]
  },
  {
   "cell_type": "code",
   "execution_count": null,
   "metadata": {},
   "outputs": [],
   "source": []
  }
 ],
 "metadata": {
  "kernelspec": {
   "display_name": "Python 3",
   "language": "python",
   "name": "python3"
  },
  "language_info": {
   "codemirror_mode": {
    "name": "ipython",
    "version": 3
   },
   "file_extension": ".py",
   "mimetype": "text/x-python",
   "name": "python",
   "nbconvert_exporter": "python",
   "pygments_lexer": "ipython3",
   "version": "3.8.5"
  }
 },
 "nbformat": 4,
 "nbformat_minor": 4
}
